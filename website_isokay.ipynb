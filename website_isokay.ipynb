{
 "cells": [
  {
   "cell_type": "code",
   "execution_count": 7,
   "id": "75556b2a",
   "metadata": {},
   "outputs": [
    {
     "name": "stdout",
     "output_type": "stream",
     "text": [
      "{'https://google.com': 'OK', 'https://airbnb.com': 'OK', 'https://twitter.com': 'OK', 'https://facebook.com': 'OK', 'https://naver.com': 'OK'}\n"
     ]
    }
   ],
   "source": [
    "# website가 정상적으로 동작하는지 확인하는 코드\n",
    "from requests import get\n",
    "\n",
    "websites = (\n",
    "    'google.com',\n",
    "    'airbnb.com',\n",
    "    'twitter.com',\n",
    "    'facebook.com',\n",
    "    'naver.com'\n",
    ")\n",
    "\n",
    "results = {}\n",
    "\n",
    "# tuple(집합체) 각각의 item에 대해 코드 실행\n",
    "for website in websites:\n",
    "    if not website.startswith(\"https://\"):  # not -> 조건문 == False\n",
    "        website = f'https://{website}'\n",
    "        \n",
    "    response = get(website)          # response => Response [200]\n",
    "    \n",
    "    # response가 정상이면 딕셔너리에 추가\n",
    "    if response.status_code >= 100 and response.status_code < 200 :\n",
    "        results[website] = 'INFORMATION'\n",
    "    elif response.status_code >= 200 and response.status_code < 300:\n",
    "        results[website] = 'OK'\n",
    "    elif response.status_code >= 300 and response.status_code < 400:\n",
    "        results[website] = 'REDIRECT'\n",
    "    elif response.status_code >= 400 and response.status_code < 500:\n",
    "        results[website] = 'CLIENT ERROR'\n",
    "    elif response.status_code >= 500 and response.status_code < 600:\n",
    "        results[website] = 'SERVER ERROR'\n",
    "\n",
    "        \n",
    "print(results)"
   ]
  },
  {
   "cell_type": "code",
   "execution_count": null,
   "id": "abbb2f76",
   "metadata": {},
   "outputs": [],
   "source": []
  }
 ],
 "metadata": {
  "kernelspec": {
   "display_name": "Python 3 (ipykernel)",
   "language": "python",
   "name": "python3"
  },
  "language_info": {
   "codemirror_mode": {
    "name": "ipython",
    "version": 3
   },
   "file_extension": ".py",
   "mimetype": "text/x-python",
   "name": "python",
   "nbconvert_exporter": "python",
   "pygments_lexer": "ipython3",
   "version": "3.9.13"
  }
 },
 "nbformat": 4,
 "nbformat_minor": 5
}
